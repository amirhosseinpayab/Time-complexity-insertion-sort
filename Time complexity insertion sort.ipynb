{
 "cells": [
  {
   "cell_type": "code",
   "execution_count": 2,
   "id": "6e607718",
   "metadata": {},
   "outputs": [],
   "source": [
    "# Insertion Sort algorithms\n",
    "def insertionSort(arr): \n",
    "    for i in range(1, len(arr)): \n",
    "        key = arr[i] \n",
    "        j = i-1\n",
    "        while j >= 0 and key < arr[j] : \n",
    "                arr[j + 1] = arr[j] \n",
    "                j -= 1\n",
    "        arr[j + 1] = key "
   ]
  },
  {
   "cell_type": "code",
   "execution_count": 23,
   "id": "94f7874d",
   "metadata": {},
   "outputs": [],
   "source": [
    "# List generation\n",
    "from random import *\n",
    "list_length = [100,200,300,400,500,600,700,800,900,1000,2000,3000,4000,5000,6000,7000,8000,9000,10000]\n",
    "total_list = []\n",
    "for x in list_length:\n",
    "    _list = []\n",
    "    for i in range(x):\n",
    "        _list.append(randint(0, 1000))\n",
    "    total_list.append(_list)"
   ]
  },
  {
   "cell_type": "code",
   "execution_count": 24,
   "id": "c91b9886",
   "metadata": {},
   "outputs": [],
   "source": [
    "# Big O notation\n",
    "import random\n",
    "import time\n",
    "avg_list = []\n",
    "count = 0\n",
    "for i in range(len(list_length)):\n",
    "    for j in range(10):\n",
    "        random.shuffle(total_list[i])\n",
    "        start = time.process_time()\n",
    "        insertionSort(total_list[i])\n",
    "        end = time.process_time()\n",
    "        time_total = end - start\n",
    "        count += time_total\n",
    "    avg = count / 10\n",
    "    avg_list.append(avg)"
   ]
  },
  {
   "cell_type": "code",
   "execution_count": 25,
   "id": "f61a4972",
   "metadata": {},
   "outputs": [
    {
     "data": {
      "image/png": "[encoded data removed]",
      "text/plain": [
       "<Figure size 432x288 with 1 Axes>"
      ]
     },
     "metadata": {
      "needs_background": "light"
     },
     "output_type": "display_data"
    }
   ],
   "source": [
    "# Chart\n",
    "import matplotlib.pyplot as plt\n",
    "x = list_length\n",
    "y = avg_list\n",
    "plt.plot(x, y)\n",
    "plt.title('Big o')\n",
    "plt.xlabel('Number')\n",
    "plt.ylabel('Time')\n",
    "plt.show()"
   ]
  }
 ],
 "metadata": {
  "kernelspec": {
   "display_name": "Python 3 (ipykernel)",
   "language": "python",
   "name": "python3"
  },
  "language_info": {
   "codemirror_mode": {
    "name": "ipython",
    "version": 3
   },
   "file_extension": ".py",
   "mimetype": "text/x-python",
   "name": "python",
   "nbconvert_exporter": "python",
   "pygments_lexer": "ipython3",
   "version": "3.10.2"
  }
 },
 "nbformat": 4,
 "nbformat_minor": 5
}
